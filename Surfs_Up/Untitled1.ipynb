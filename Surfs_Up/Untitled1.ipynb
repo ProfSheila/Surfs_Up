{
 "cells": [
  {
   "cell_type": "code",
   "execution_count": 1,
   "id": "ca89449a",
   "metadata": {},
   "outputs": [],
   "source": [
    "import pandas as pd\n",
    "CTA_list_of_L_stops_to_load = \"CTA_list_of_L_stops.csv\"\n",
    "CTA_list_of_L_stops_df = pd.read_csv(CTA_list_of_L_stops_to_load)"
   ]
  },
  {
   "cell_type": "code",
   "execution_count": null,
   "id": "264d0cb9",
   "metadata": {},
   "outputs": [],
   "source": [
    "MAP_ID"
   ]
  }
 ],
 "metadata": {
  "kernelspec": {
   "display_name": "Python 3 (ipykernel)",
   "language": "python",
   "name": "python3"
  },
  "language_info": {
   "codemirror_mode": {
    "name": "ipython",
    "version": 3
   },
   "file_extension": ".py",
   "mimetype": "text/x-python",
   "name": "python",
   "nbconvert_exporter": "python",
   "pygments_lexer": "ipython3",
   "version": "3.9.7"
  }
 },
 "nbformat": 4,
 "nbformat_minor": 5
}
